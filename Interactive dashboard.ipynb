{
 "cells": [
  {
   "cell_type": "markdown",
   "id": "be4a5c59",
   "metadata": {},
   "source": [
    "# Importing libraries."
   ]
  },
  {
   "cell_type": "code",
   "execution_count": 1,
   "id": "996264aa",
   "metadata": {},
   "outputs": [],
   "source": [
    "import pandas as pd, numpy as np, seaborn as sns, ipywidgets as widgets\n",
    "\n",
    "from ipywidgets import Layout"
   ]
  },
  {
   "cell_type": "markdown",
   "id": "7ef8eaef",
   "metadata": {},
   "source": [
    "# Acquiring data."
   ]
  },
  {
   "cell_type": "code",
   "execution_count": 2,
   "id": "9b1d5d3e",
   "metadata": {},
   "outputs": [],
   "source": [
    "df_traffic = pd.read_csv(\"traff_ga.csv\", delimiter = \";\")\n",
    "df_channels = pd.read_csv(\"Каналы.csv\")\n",
    "df_rk = pd.read_csv(\"rk.csv\")\n",
    "df_sales = pd.read_csv(\"sales.csv\")"
   ]
  },
  {
   "cell_type": "markdown",
   "id": "1d985a7b",
   "metadata": {},
   "source": [
    "# Data engineering."
   ]
  },
  {
   "cell_type": "code",
   "execution_count": 3,
   "id": "f9af3082",
   "metadata": {},
   "outputs": [],
   "source": [
    "df_traffic.set_index(\"ga_user_id\", inplace = True)\n",
    "df_traffic[\"Channel\"] = None\n",
    "\n",
    "df_channels.set_index(\"Канал трафика\", inplace = True)\n",
    "\n",
    "df_rk.set_index(\"Канал трафика\", inplace = True)\n",
    "df_rk['Total'] = df_rk.sum(axis = 1)\n",
    "\n",
    "df_sales.set_index(\"Номер заявки\", inplace = True)\n",
    "df_sales[\"Стоимость услуги\"].astype(float)\n",
    "df_sales[\"Сумма НДС\"].astype(float)\n",
    "df_sales[\"Сумма НДС\"].fillna(value = 0, inplace = True)\n",
    "df_sales[\"Revenue\"] = df_sales[\"Стоимость услуги\"] - df_sales[\"Сумма НДС\"]"
   ]
  },
  {
   "cell_type": "markdown",
   "id": "ea506f63",
   "metadata": {},
   "source": [
    "# Mapping.\n",
    "## df_traffic."
   ]
  },
  {
   "cell_type": "code",
   "execution_count": 4,
   "id": "46e954b9",
   "metadata": {},
   "outputs": [],
   "source": [
    "df_traffic.loc[df_traffic[\"source\"].isin([\"yandex\", \"yandex-search\", \"yandex-network\", \"direct\", \"yandex-direct\", \"Yandex\"]), \"Channel\"] = \"Я.Директ,р\"\n",
    "\n",
    "df_traffic.loc[df_traffic[\"source\"].isin([\"vkontakte\", \"Telegram\", \"etp_roseltorg\"]), \"Channel\"] = \"VK, таргетинг,р\"\n",
    "\n",
    "df_traffic.loc[(df_traffic[\"source\"].isin([\"mindbox\", \"email\", \"emarsys\"])) | (df_traffic[\"medium\"].isin([\"mail\"])), \"Channel\"] = \"Email-рассылка, сервис,р\"\n",
    "\n",
    "df_traffic.loc[(df_traffic[\"source\"].isin([\"sms\"])) | (df_traffic[\"medium\"].isin([\"CoMagic\"])), \"Channel\"] = \"whatsapp, рассылка,р\"\n",
    "\n",
    "df_traffic.loc[df_traffic[\"medium\"].isin([\"organic\"]), \"Channel\"] = \"СЕO, контенкт,р\"\n",
    "\n",
    "df_traffic.loc[df_traffic[\"source\"].isin([\"yandex.promopages\", \"dzen_suggest_ad_priority\", \"dzen\", \"dzen_suggest_nav_priority\"]), \"Channel\"] = \"Я.Дзен,р\"\n",
    "\n",
    "df_traffic.loc[df_traffic[\"medium\"].isin([\"referral\"]), \"Channel\"] = \"Реферальный трафик\"\n",
    "\n",
    "df_traffic.loc[df_traffic[\"source\"].isin([\"push\", \"posteruc\", \"qr\", \"QR\", \"vebinar\",  \"booklet\"]), \"Channel\"] = \"Промо-материалы,р\"\n",
    "\n",
    "df_traffic.loc[df_traffic[\"source\"].isin([\"gos.roseltorg.ru\", \"com.roseltorg.ru\", \"178fz\", \"flocktory\", \"partner\", \"etp_rosltorg\", \"etp-roseltorg\", \"com_rosltorg\", \"roseltorg_ep\", \"rostec.roseltorg.ru\", \"com_roseltorg\"]), \"Channel\"] = \"Партнерский маркетинг,р\"\n",
    "\n",
    "#df_traffic.loc[df_traffic[\"source\"].isin([\"(direct)\"]), \"Channel\"] = \"Прямая ссылка\""
   ]
  },
  {
   "cell_type": "markdown",
   "id": "fa6b983a",
   "metadata": {},
   "source": [
    "## df_sales."
   ]
  },
  {
   "cell_type": "code",
   "execution_count": 5,
   "id": "9d222863",
   "metadata": {},
   "outputs": [],
   "source": [
    "df_sales.loc[df_sales[\"utm_source\"].isin([\"yandex\", \"yandex-search\", \"yandex-network\", \"direct\", \"yandex-direct\", \"Yandex\"]), \"Channel\"] = \"Я.Директ,р\"\n",
    "\n",
    "df_sales.loc[df_sales[\"utm_source\"].isin([\"vkontakte\", \"Telegram\", \"etp_roseltorg\"]), \"Channel\"] = \"VK, таргетинг,р\"\n",
    "\n",
    "df_sales.loc[(df_sales[\"utm_source\"].isin([\"mindbox\", \"email\", \"emarsys\"])) | (df_sales[\"utm_medium\"].isin([\"mail\"])), \"Channel\"] = \"Email-рассылка, сервис,р\"\n",
    "\n",
    "df_sales.loc[(df_sales[\"utm_source\"].isin([\"sms\"])) | (df_sales[\"utm_medium\"].isin([\"CoMagic\"])), \"Channel\"] = \"whatsapp, рассылка,р\"\n",
    "\n",
    "df_sales.loc[df_sales[\"utm_medium\"].isin([\"organic\"]), \"Channel\"] = \"СЕO, контенкт,р\"\n",
    "\n",
    "df_sales.loc[df_sales[\"utm_source\"].isin([\"yandex.promopages\", \"dzen_suggest_ad_priority\", \"dzen\", \"dzen_suggest_nav_priority\"]), \"Channel\"] = \"Я.Дзен,р\"\n",
    "\n",
    "df_sales.loc[df_sales[\"utm_medium\"].isin([\"referral\"]), \"Channel\"] = \"Реферальный трафик\"\n",
    "\n",
    "df_sales.loc[df_sales[\"utm_source\"].isin([\"push\", \"posteruc\", \"qr\", \"QR\", \"vebinar\",  \"booklet\"]), \"Channel\"] = \"Промо-материалы,р\"\n",
    "\n",
    "df_sales.loc[df_sales[\"utm_source\"].isin([\"gos.roseltorg.ru\", \"com.roseltorg.ru\", \"178fz\", \"flocktory\", \"partner\", \"etp_rosltorg\", \"etp-roseltorg\", \"com_rosltorg\", \"roseltorg_ep\", \"rostec.roseltorg.ru\", \"com_roseltorg\"]), \"Channel\"] = \"Партнерский маркетинг,р\"\n",
    "\n",
    "#df_sales.loc[df_sales[\"utm_source\"].isin([\"(direct)\"]), \"Channel\"] = \"Прямая ссылка\""
   ]
  },
  {
   "cell_type": "markdown",
   "id": "c4f73af9",
   "metadata": {},
   "source": [
    "# Metrics.\n",
    "## Traffic."
   ]
  },
  {
   "cell_type": "code",
   "execution_count": 6,
   "id": "7dc8a08d",
   "metadata": {},
   "outputs": [],
   "source": [
    "df_count = pd.DataFrame(df_traffic.groupby(by = [\"Channel\"])[\"fullReferrer\"].count())"
   ]
  },
  {
   "cell_type": "markdown",
   "id": "6fc9210f",
   "metadata": {},
   "source": [
    "## Revenue."
   ]
  },
  {
   "cell_type": "code",
   "execution_count": 7,
   "id": "d1c6ba26",
   "metadata": {
    "scrolled": false
   },
   "outputs": [],
   "source": [
    "df_revenue = pd.DataFrame(df_sales.groupby([\"Channel\"])[\"Revenue\"].sum())"
   ]
  },
  {
   "cell_type": "markdown",
   "id": "1f3cb76d",
   "metadata": {},
   "source": [
    "## Average receipt"
   ]
  },
  {
   "cell_type": "code",
   "execution_count": 8,
   "id": "b00af00f",
   "metadata": {},
   "outputs": [],
   "source": [
    "df_average_receipt = df_revenue.join(df_count, how = \"inner\")\n",
    "df_average_receipt[\"Average receipt\"] = df_average_receipt[\"Revenue\"] / df_average_receipt[\"fullReferrer\"]\n",
    "df_average_receipt.drop([\"Revenue\", \"fullReferrer\"], axis = 1, inplace = True)"
   ]
  },
  {
   "cell_type": "markdown",
   "id": "24acd061",
   "metadata": {},
   "source": [
    "## Conversion rate."
   ]
  },
  {
   "cell_type": "code",
   "execution_count": 9,
   "id": "42a9ce5f",
   "metadata": {},
   "outputs": [],
   "source": [
    "df_va = pd.DataFrame(df_sales.groupby([\"Channel\"])[\"Revenue\"].count())\n",
    "\n",
    "df_cr = df_va.join(df_count, how = \"inner\")\n",
    "df_cr[\"CR\"] = df_cr[\"Revenue\"] / df_cr[\"fullReferrer\"] * 100\n",
    "df_cr.drop([\"Revenue\", \"fullReferrer\"], axis = 1, inplace = True)"
   ]
  },
  {
   "cell_type": "markdown",
   "id": "cf1f9061",
   "metadata": {},
   "source": [
    "## ROI."
   ]
  },
  {
   "cell_type": "code",
   "execution_count": 10,
   "id": "6154ead1",
   "metadata": {},
   "outputs": [],
   "source": [
    "df_total_cost = pd.DataFrame(df_rk[\"Total\"])\n",
    "\n",
    "df_roi = df_revenue.join(df_total_cost, how = \"inner\")\n",
    "df_roi[\"ROI\"] = (df_roi[\"Revenue\"] - df_roi[\"Total\"]) / df_roi[\"Total\"]\n",
    "df_roi.drop([\"Revenue\", \"Total\"], axis = 1, inplace = True)"
   ]
  },
  {
   "cell_type": "markdown",
   "id": "58835c8a",
   "metadata": {},
   "source": [
    "# Creating an interactive dashboard (a try)."
   ]
  },
  {
   "cell_type": "code",
   "execution_count": 11,
   "id": "97449022",
   "metadata": {},
   "outputs": [],
   "source": [
    "df_merged = df_revenue.merge(df_average_receipt, left_index = True, right_index = True).merge(df_cr, left_index = True, right_index = True)\n",
    "df_merged = df_merged.join(df_count, how = \"outer\")\n",
    "df_merged = df_merged.join(df_roi, how = \"outer\")\n",
    "df_merged.rename(columns = {\"fullReferrer\": \"Traffic\"}, inplace = True)\n",
    "df_merged.fillna(value = 0, inplace = True)"
   ]
  },
  {
   "cell_type": "code",
   "execution_count": 12,
   "id": "1e6d823d",
   "metadata": {},
   "outputs": [
    {
     "data": {
      "application/vnd.jupyter.widget-view+json": {
       "model_id": "b0e54eed14c8437f95b3f5c29bdb0c58",
       "version_major": 2,
       "version_minor": 0
      },
      "text/plain": [
       "interactive(children=(Select(description='Feature', layout=Layout(display='flex', height='80px', width='50%'),…"
      ]
     },
     "execution_count": 12,
     "metadata": {},
     "output_type": "execute_result"
    }
   ],
   "source": [
    "unique_features = df_merged.columns.unique().to_numpy()\n",
    "\n",
    "feature = widgets.Select(options = unique_features, value = \"Revenue\", description = 'Feature',\n",
    "                         disabled = False, layout = Layout(width = '50%', height= '80px', display = 'flex'))\n",
    "\n",
    "def graph(feature):\n",
    "    df_feature = df_merged[feature]\n",
    "    sns.barplot(x = df_merged[feature], y = df_merged.index)\n",
    "    \n",
    "widgets.interactive(graph, feature = feature)"
   ]
  }
 ],
 "metadata": {
  "kernelspec": {
   "display_name": "Python 3 (ipykernel)",
   "language": "python",
   "name": "python3"
  },
  "language_info": {
   "codemirror_mode": {
    "name": "ipython",
    "version": 3
   },
   "file_extension": ".py",
   "mimetype": "text/x-python",
   "name": "python",
   "nbconvert_exporter": "python",
   "pygments_lexer": "ipython3",
   "version": "3.11.1"
  }
 },
 "nbformat": 4,
 "nbformat_minor": 5
}
